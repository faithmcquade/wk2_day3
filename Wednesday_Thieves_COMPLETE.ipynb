{
 "cells": [
  {
   "cell_type": "markdown",
   "metadata": {},
   "source": [
    "# Data Collections 2 (Dictionaries, Sets) and Importing Modules"
   ]
  },
  {
   "cell_type": "markdown",
   "metadata": {},
   "source": [
    "## Tasks Today:\n",
    "\n",
    "1) Dictionary <br>\n",
    " &nbsp;&nbsp;&nbsp;&nbsp; a) Declaring (key, value) <br>\n",
    " &nbsp;&nbsp;&nbsp;&nbsp; b) Accessing Values <br>\n",
    " &nbsp;&nbsp;&nbsp;&nbsp; ------ Exercise #1 - Print the eye color of each person in a double nested dict <br>\n",
    " &nbsp;&nbsp;&nbsp;&nbsp; c) Adding New Pairs <br>\n",
    " &nbsp;&nbsp;&nbsp;&nbsp; d) Modifying Values <br>\n",
    " &nbsp;&nbsp;&nbsp;&nbsp; e) Removing Key, Value Pairs <br>\n",
    " &nbsp;&nbsp;&nbsp;&nbsp; f) Looping a Dictionary <br>\n",
    " &nbsp;&nbsp;&nbsp;&nbsp; g) Looping Only Keys <br>\n",
    " &nbsp;&nbsp;&nbsp;&nbsp; h) Looping Only Values <br>\n",
    " &nbsp;&nbsp;&nbsp;&nbsp; ------ Exercise #2 - Create a Function that Prints All Key Value Pairs within a print .format()  <br>\n",
    " &nbsp;&nbsp;&nbsp;&nbsp; i) sorted() <br>\n",
    " &nbsp;&nbsp;&nbsp;&nbsp; j) Lists with Dictionaries <br>\n",
    " &nbsp;&nbsp;&nbsp;&nbsp; k) Dictionaries with Lists <br>\n",
    " &nbsp;&nbsp;&nbsp;&nbsp; l) Dictionaries with Dictionaries <br>\n",
    " &nbsp;&nbsp;&nbsp;&nbsp; ------ Exercise #3 - Write a Function that asks someone's name and address, and then stores that into a dictionary, which prints all names and addresses after they're done putting information in...  <br>\n",
    "2) Dictionaries vs. Lists (over time)<br>\n",
    "3) Set <br>\n",
    " &nbsp;&nbsp;&nbsp;&nbsp; a) Declaring <br>\n",
    " &nbsp;&nbsp;&nbsp;&nbsp; b) .add() <br>\n",
    " &nbsp;&nbsp;&nbsp;&nbsp; c) .remove() <br>\n",
    " &nbsp;&nbsp;&nbsp;&nbsp; d) .union() <br>\n",
    " &nbsp;&nbsp;&nbsp;&nbsp; e) .intersection() <br>\n",
    " &nbsp;&nbsp;&nbsp;&nbsp; f) .difference() <br>\n",
    " &nbsp;&nbsp;&nbsp;&nbsp; g) Frozen Set <br>\n",
    "4) Modules <br>\n",
    " &nbsp;&nbsp;&nbsp;&nbsp; a) Importing Entire Modules <br>\n",
    " &nbsp;&nbsp;&nbsp;&nbsp; b) Importing Methods Only <br>\n",
    " &nbsp;&nbsp;&nbsp;&nbsp; c) Using the 'as' Keyword <br>\n",
    " &nbsp;&nbsp;&nbsp;&nbsp; d) Creating a Module <br>\n",
    "5) Exercises <br>\n",
    " &nbsp;&nbsp;&nbsp;&nbsp; a) Build a Shopping Cart <br>\n",
    " &nbsp;&nbsp;&nbsp;&nbsp; b) Create Your Own Module <br>"
   ]
  },
  {
   "cell_type": "markdown",
   "metadata": {},
   "source": [
    "## Dictionary <br>\n",
    "<p>A collection of data with 'key:value' pairs. Dictionaries are ordered as of Python 3.6</p>"
   ]
  },
  {
   "cell_type": "markdown",
   "metadata": {},
   "source": [
    "##### Declaring (key, value)"
   ]
  },
  {
   "cell_type": "code",
   "execution_count": 2,
   "metadata": {},
   "outputs": [
    {
     "name": "stdout",
     "output_type": "stream",
     "text": [
      "{'username': 'Dylank', 'password': 'ILoveMyDog', 'fav_color': 'green'}\n"
     ]
    }
   ],
   "source": [
    "new_dict = {}\n",
    "new_dict2 = dict()\n",
    "\n",
    "user = { 'username': 'Dylank', 'password': 'ILoveMyDog', 'fav_color': 'green'}\n",
    "\n",
    "print(user)"
   ]
  },
  {
   "cell_type": "markdown",
   "metadata": {},
   "source": [
    "##### Accessing Values"
   ]
  },
  {
   "cell_type": "code",
   "execution_count": 4,
   "metadata": {},
   "outputs": [
    {
     "name": "stdout",
     "output_type": "stream",
     "text": [
      "Dylank\n",
      "green\n"
     ]
    }
   ],
   "source": [
    "print(user['username'])\n",
    "print(user['fav_color'])"
   ]
  },
  {
   "cell_type": "markdown",
   "metadata": {},
   "source": [
    "## In-Class Exercise #1 - Print a formatted statement from the dictionary below <br>\n",
    "<p>The output should be '2018 Chevrolet Silverado'</p>"
   ]
  },
  {
   "cell_type": "code",
   "execution_count": null,
   "metadata": {},
   "outputs": [],
   "source": [
    "# use the dict below\n",
    "truck = {\n",
    "    'year': 2018,\n",
    "    'make': 'Chevrolet',\n",
    "    'model': 'Silverado'\n",
    "}\n",
    "\n"
   ]
  },
  {
   "cell_type": "markdown",
   "metadata": {},
   "source": [
    "##### Adding New Pairs"
   ]
  },
  {
   "cell_type": "code",
   "execution_count": 12,
   "metadata": {},
   "outputs": [
    {
     "name": "stdout",
     "output_type": "stream",
     "text": [
      "{'username': 'Dylank', 'password': 'ILoveMyDog', 'fav_color': 'green', 'fav_food': 'Tacos'}\n"
     ]
    }
   ],
   "source": [
    "user = { \n",
    "    'username': 'Dylank',\n",
    "    'password': 'ILoveMyDog',\n",
    "    \"fav_color\": 'green'\n",
    "}\n",
    "\n",
    "user['fav_food'] = 'Tacos'\n",
    "\n",
    "print(user)"
   ]
  },
  {
   "cell_type": "markdown",
   "metadata": {},
   "source": [
    "##### Modifying Values"
   ]
  },
  {
   "cell_type": "code",
   "execution_count": 13,
   "metadata": {},
   "outputs": [
    {
     "name": "stdout",
     "output_type": "stream",
     "text": [
      "{'username': 'Hurricane', 'password': 'ILoveMyDog', 'fav_color': 'green', 'fav_food': 'Tacos'}\n"
     ]
    }
   ],
   "source": [
    "user['username'] = 'Hurricane'\n",
    "\n",
    "print(user)"
   ]
  },
  {
   "cell_type": "markdown",
   "metadata": {},
   "source": [
    "##### Removing Key, Value Pairs"
   ]
  },
  {
   "cell_type": "code",
   "execution_count": 14,
   "metadata": {},
   "outputs": [
    {
     "name": "stdout",
     "output_type": "stream",
     "text": [
      "{'username': 'Hurricane', 'password': 'ILoveMyDog', 'fav_food': 'Tacos'}\n"
     ]
    }
   ],
   "source": [
    "del user['fav_color']\n",
    "\n",
    "print(user)"
   ]
  },
  {
   "cell_type": "markdown",
   "metadata": {},
   "source": [
    "##### Looping a Dictionary"
   ]
  },
  {
   "cell_type": "code",
   "execution_count": 17,
   "metadata": {},
   "outputs": [
    {
     "name": "stdout",
     "output_type": "stream",
     "text": [
      "My username is Dylank\n",
      "My password is ILoveMyDog\n",
      "My fav_color is green\n"
     ]
    }
   ],
   "source": [
    "# .items()\n",
    "user = { \n",
    "    'username': 'Dylank',\n",
    "    'password': 'ILoveMyDog',\n",
    "    'fav_color': 'green'\n",
    "}\n",
    "\n",
    "for k, v in user.items():\n",
    "    print(f'My {k} is {v}')\n",
    "\n",
    "\n"
   ]
  },
  {
   "cell_type": "markdown",
   "metadata": {},
   "source": [
    "##### Looping Only Keys"
   ]
  },
  {
   "cell_type": "code",
   "execution_count": 18,
   "metadata": {},
   "outputs": [
    {
     "name": "stdout",
     "output_type": "stream",
     "text": [
      "username\n",
      "password\n",
      "fav_color\n"
     ]
    }
   ],
   "source": [
    "# .keys()\n",
    "\n",
    "for key in user.keys():\n",
    "    print(key)\n"
   ]
  },
  {
   "cell_type": "markdown",
   "metadata": {},
   "source": [
    "##### Looping Only Values"
   ]
  },
  {
   "cell_type": "code",
   "execution_count": 20,
   "metadata": {},
   "outputs": [
    {
     "name": "stdout",
     "output_type": "stream",
     "text": [
      "username\n",
      "password\n",
      "fav_color\n"
     ]
    }
   ],
   "source": [
    "# .values()\n",
    "\n",
    "for value in user.value():\n",
    "    print(value)\n"
   ]
  },
  {
   "cell_type": "markdown",
   "metadata": {},
   "source": [
    "## In-Class Exercise #2 - Create a Function that Prints All Key Value Pairs within a print .format() <br>\n",
    "<p><b>Output should be:</b><br>\n",
    "Max has blue eyes<br>\n",
    "Lilly has brown eyes<br>\n",
    "Barney has blue eyes<br>\n",
    "etc.\n",
    "</p>"
   ]
  },
  {
   "cell_type": "code",
   "execution_count": null,
   "metadata": {},
   "outputs": [],
   "source": [
    "# use the dict below\n",
    "\n",
    "people = {\n",
    "    'Max': 'blue',\n",
    "    'Lilly': 'brown',\n",
    "    'Barney': 'blue',\n",
    "    'Larney': 'brown',\n",
    "    'Ted': 'purple'\n",
    "}\n"
   ]
  },
  {
   "cell_type": "markdown",
   "metadata": {},
   "source": [
    "##### sorted()"
   ]
  },
  {
   "cell_type": "code",
   "execution_count": 26,
   "metadata": {},
   "outputs": [
    {
     "name": "stdout",
     "output_type": "stream",
     "text": [
      "[('Barney', 'blue'), ('Larney', 'brown'), ('Lilly', 'brown'), ('Max', 'blue'), ('Ted', 'purple')]\n"
     ]
    },
    {
     "ename": "AttributeError",
     "evalue": "'dict' object has no attribute 'sort'",
     "output_type": "error",
     "traceback": [
      "\u001b[1;31m---------------------------------------------------------------------------\u001b[0m",
      "\u001b[1;31mAttributeError\u001b[0m                            Traceback (most recent call last)",
      "Cell \u001b[1;32mIn[26], line 17\u001b[0m\n\u001b[0;32m     12\u001b[0m new_people \u001b[39m=\u001b[39m \u001b[39msorted\u001b[39m(people\u001b[39m.\u001b[39mitems())\n\u001b[0;32m     14\u001b[0m \u001b[39mprint\u001b[39m(new_people)\n\u001b[1;32m---> 17\u001b[0m people\u001b[39m.\u001b[39;49msort()\n\u001b[0;32m     18\u001b[0m \u001b[39mprint\u001b[39m(people)\n",
      "\u001b[1;31mAttributeError\u001b[0m: 'dict' object has no attribute 'sort'"
     ]
    }
   ],
   "source": [
    "# sorts variables in order\n",
    "# sorted(dict.values()) or dict.keys() or dict.items()\n",
    "\n",
    "people = {\n",
    "    'Max': 'blue',\n",
    "    'Lilly': 'brown',\n",
    "    'Barney': 'blue',\n",
    "    'Larney': 'brown',\n",
    "    'Ted': 'purple'\n",
    "}\n",
    "\n",
    "new_people = sorted(people.items())\n",
    "\n",
    "print(new_people)\n",
    "\n",
    "\n",
    "# people.sort()\n",
    "print(people)"
   ]
  },
  {
   "cell_type": "markdown",
   "metadata": {},
   "source": [
    "##### List with Dictionaries"
   ]
  },
  {
   "cell_type": "code",
   "execution_count": 30,
   "metadata": {},
   "outputs": [
    {
     "name": "stdout",
     "output_type": "stream",
     "text": [
      "y\n"
     ]
    }
   ],
   "source": [
    "Thieves = ['Marcos', 'Sam', 'Jake', 'Justin', {'ins1': 'Christians', 'ins2': 'Dylan'}]\n",
    "\n",
    "\n",
    "print(Thieves[-1]['ins2'][1])"
   ]
  },
  {
   "cell_type": "markdown",
   "metadata": {},
   "source": [
    "##### Dictionaries with Lists"
   ]
  },
  {
   "cell_type": "code",
   "execution_count": 34,
   "metadata": {},
   "outputs": [
    {
     "name": "stdout",
     "output_type": "stream",
     "text": [
      "Alex\n",
      "something random\n"
     ]
    }
   ],
   "source": [
    "# be careful when using numbers as keys in dictionaries, don't confuse them with indexes\n",
    "\n",
    "coding_temple = {\n",
    "    'Thieves': ['Christian', 'Dylan'],\n",
    "    'Matrix': ['Dylan', 'Sean'],\n",
    "    'Rangers': ['Alex', 'Brendan'],\n",
    "    2:['something random']\n",
    "}\n",
    "\n",
    "print(coding_temple['Rangers'][0])\n",
    "print(coding_temple[2][0])"
   ]
  },
  {
   "cell_type": "markdown",
   "metadata": {},
   "source": [
    "##### Dictionaries with Dictionaries"
   ]
  },
  {
   "cell_type": "code",
   "execution_count": 35,
   "metadata": {},
   "outputs": [
    {
     "name": "stdout",
     "output_type": "stream",
     "text": [
      "0.00\n"
     ]
    }
   ],
   "source": [
    "# to get values, must traverse through keys\n",
    "\n",
    "restaurant = {\n",
    "    'Food Menu':{\n",
    "        'Salad': '8.00',\n",
    "        'Buger': '18.00'\n",
    "    },\n",
    "    'Drink Menu': {\n",
    "        'water': '100.00',\n",
    "        'whiskey': '0.00'\n",
    "    }\n",
    "}\n",
    "\n",
    "print(restaurant['Drink Menu']['whiskey'])"
   ]
  },
  {
   "cell_type": "markdown",
   "metadata": {},
   "source": [
    "## Dictionaries vs. Lists (over time) Example of RUNTIME\n",
    "### When inputting values in a Dictionary vs List"
   ]
  },
  {
   "cell_type": "code",
   "execution_count": 36,
   "metadata": {},
   "outputs": [],
   "source": [
    "import time\n",
    "\n",
    "\n",
    "# generate fake dictionary\n",
    "d = {}\n",
    "\n",
    "for i in range(50000000):\n",
    "    d[i] = 'value'\n",
    "    \n",
    "\n",
    "# generate fake list\n",
    "big_list = [x for x in range(50000000)]"
   ]
  },
  {
   "cell_type": "code",
   "execution_count": 37,
   "metadata": {},
   "outputs": [
    {
     "name": "stdout",
     "output_type": "stream",
     "text": [
      "Elapsed time for list: 0.5027904510498047\n",
      "Elapsed time for dictionary: 0.0\n"
     ]
    }
   ],
   "source": [
    "# tracking time for list\n",
    "start_time = time.time()\n",
    "\n",
    "if 49999999 in big_list:\n",
    "    pass\n",
    "end_time = time.time() - start_time\n",
    "\n",
    "print('Elapsed time for list: {}'.format(end_time))\n",
    "\n",
    "\n",
    "# tracking time for dictionary\n",
    "start_time = time.time()\n",
    "\n",
    "if 49999999 in d:\n",
    "    pass\n",
    "\n",
    "end_time = time.time() - start_time\n",
    "\n",
    "print('Elapsed time for dictionary: {}'.format(end_time))"
   ]
  },
  {
   "cell_type": "markdown",
   "metadata": {},
   "source": [
    "## Exercise #3 - Write a Function that asks someone's name and address, and then stores that into a dictionary, and continues to do so until they choose to 'quit'. Once they quit, the program should print all names and addresses. <br>\n",
    "<p>\n",
    "<b>Proper steps:</b><br>\n",
    "step 1: write a function that takes in information and stores it in a dictionary<br>\n",
    "step 2: define an empty dictionary to work with<br>\n",
    "step 3: create our loop, which asks the user for information until they quit<br>\n",
    "step 4: ask for the information, and store it into variables<br>\n",
    "step 5: check if the user types quit<br>\n",
    "step 5a: print out all information<br>\n",
    "step 5b: break out of the loop<br>\n",
    "step 6: if they didn't quit, add the information to the dictionary<br>\n",
    "step 7: invoke the function by calling it\n",
    "</p>"
   ]
  },
  {
   "cell_type": "code",
   "execution_count": null,
   "metadata": {},
   "outputs": [],
   "source": [
    "def get_info():\n",
    "\n",
    "    info = {}\n",
    "\n",
    "    print(\"Exit the program at any time by replying 'quit'\")\n",
    "\n",
    "    while True:\n",
    "        name = input(\"What is you name?\")\n",
    "        if name == \"quit\":\n",
    "            break\n",
    "        elif name in info:\n",
    "            print('Name already in use')\n",
    "            continue\n",
    "\n",
    "        address = input(\"What is your address?\")\n",
    "        if address == \"quit\":\n",
    "            break\n",
    "\n",
    "        info[name] = address\n",
    "\n",
    "        again = input(\"Would you like to add more info? (yes/quit)\")\n",
    "        if again == 'quit' or again == 'no':\n",
    "            break\n",
    "    \n",
    "    return info\n",
    "\n",
    "print(get_info())"
   ]
  },
  {
   "cell_type": "markdown",
   "metadata": {},
   "source": [
    "## Set <br>\n",
    "<p>A Set is an unordered collection data type that is iterable (loop), mutable, and has no duplicate elements.<br>Major advantage is that it is highly optimized in checking if something is in the set, as opposed to checking if something is in a list.</p>"
   ]
  },
  {
   "cell_type": "markdown",
   "metadata": {},
   "source": [
    "##### Declaring"
   ]
  },
  {
   "cell_type": "code",
   "execution_count": 43,
   "metadata": {},
   "outputs": [
    {
     "name": "stdout",
     "output_type": "stream",
     "text": [
      "[1, 2, 3, 3, 3, 3, 3, 4, 5, 6, 7]\n",
      "[1, 2, 3, 4, 5, 6, 7]\n",
      "{1, 2, 3}\n"
     ]
    }
   ],
   "source": [
    "# set() or {}\n",
    "a_list = [1,2,3,3,3,3,3,4,5,6,7]\n",
    "\n",
    "print(a_list)\n",
    "a_list = set(a_list)\n",
    "print(list(a_list))\n",
    "\n",
    "set_1 = set()\n",
    "set_2 = {1,2,3}\n",
    "\n",
    "print(set_2)"
   ]
  },
  {
   "cell_type": "markdown",
   "metadata": {},
   "source": [
    "##### .add()"
   ]
  },
  {
   "cell_type": "code",
   "execution_count": 46,
   "metadata": {},
   "outputs": [
    {
     "name": "stdout",
     "output_type": "stream",
     "text": [
      "{1, 2, 3, 'Pickles', 'Pizza', 'Pie'}\n"
     ]
    }
   ],
   "source": [
    "# set.add()\n",
    "set_2 = {1,2,3}\n",
    "\n",
    "set_2.add('Pizza')\n",
    "set_2.add('Pie')\n",
    "set_2.add('Pickles')\n",
    "\n",
    "\n",
    "\n",
    "print(set_2)"
   ]
  },
  {
   "cell_type": "markdown",
   "metadata": {},
   "source": [
    "##### .remove()"
   ]
  },
  {
   "cell_type": "code",
   "execution_count": 47,
   "metadata": {},
   "outputs": [
    {
     "name": "stdout",
     "output_type": "stream",
     "text": [
      "{1, 2, 3, 'Pickles', 'Pizza', 'Pie'}\n",
      "{1, 2, 3, 'Pizza', 'Pie'}\n"
     ]
    }
   ],
   "source": [
    "# removes by value\n",
    "# set.remove()\n",
    "# nums.remove(56)\n",
    "print(set_2)\n",
    "set_2.remove('Pickles')\n",
    "print(set_2)\n",
    "\n"
   ]
  },
  {
   "cell_type": "markdown",
   "metadata": {},
   "source": [
    "##### .union() "
   ]
  },
  {
   "cell_type": "code",
   "execution_count": 50,
   "metadata": {},
   "outputs": [
    {
     "name": "stdout",
     "output_type": "stream",
     "text": [
      "{1, 2, 3, 4, 5, 6, 7, 8}\n"
     ]
    }
   ],
   "source": [
    "# Returns a union of two sets, can also use '|' or set.union(set)\n",
    "# joins all numbers, gets rid of duplicates\n",
    "red = {1,2,3,4,5}\n",
    "blue = {4,5,6,7,8}\n",
    "\n",
    "purple = red | blue\n",
    "purple2 = red.union(blue)\n",
    "\n",
    "print(purple2)\n"
   ]
  },
  {
   "cell_type": "markdown",
   "metadata": {},
   "source": [
    "##### .intersection()"
   ]
  },
  {
   "cell_type": "code",
   "execution_count": 53,
   "metadata": {},
   "outputs": [
    {
     "name": "stdout",
     "output_type": "stream",
     "text": [
      "{4, 5}\n"
     ]
    }
   ],
   "source": [
    "# Returns an intersection of two sets, can also use '&'\n",
    "# only takes similar elements from both sets\n",
    "red = {1,2,3,4,5}\n",
    "blue = {4,5,6,7,8}\n",
    "\n",
    "pruple = red & blue\n",
    "purple2 = red.intersection(blue)\n",
    "\n",
    "print(purple2)\n"
   ]
  },
  {
   "cell_type": "markdown",
   "metadata": {},
   "source": [
    "##### .difference()"
   ]
  },
  {
   "cell_type": "code",
   "execution_count": 55,
   "metadata": {},
   "outputs": [
    {
     "name": "stdout",
     "output_type": "stream",
     "text": [
      "{8, 6, 7}\n"
     ]
    }
   ],
   "source": [
    "# Returns a set containing all the elements of invoking set that are not in the second set, can also use '-'\n",
    "# only takes values from the first set that are not in the second set\n",
    "# order matters\n",
    "\n",
    "red = {1,2,3,4,5}\n",
    "blue = {4,5,6,7,8}\n",
    "\n",
    "purple = red.difference(blue)\n",
    "purple = blue - red\n",
    "\n",
    "print(purple)\n"
   ]
  },
  {
   "cell_type": "markdown",
   "metadata": {},
   "source": [
    "##### .clear()"
   ]
  },
  {
   "cell_type": "code",
   "execution_count": 56,
   "metadata": {},
   "outputs": [
    {
     "name": "stdout",
     "output_type": "stream",
     "text": [
      "set()\n"
     ]
    }
   ],
   "source": [
    "# Empties the whole set\n",
    "# set.clear()\n",
    "red = {1,2,3,4,5}\n",
    "\n",
    "red.clear()\n",
    "\n",
    "print(red)\n"
   ]
  },
  {
   "cell_type": "markdown",
   "metadata": {},
   "source": [
    "##### Frozenset <br>\n",
    "<p>Frozen sets are immutable objects that only support methods and operators that produce a result without affecting the frozen set or sets to which they are applied.</p><br><b>Unique & Immutable</b>"
   ]
  },
  {
   "cell_type": "code",
   "execution_count": 60,
   "metadata": {},
   "outputs": [
    {
     "name": "stdout",
     "output_type": "stream",
     "text": [
      "frozenset({1, 2, 3, 4, 5})\n",
      "frozenset({1, 2, 3})\n"
     ]
    }
   ],
   "source": [
    "# frozenset([])\n",
    "\n",
    "red = {1,2,3,4,5}\n",
    "blue = {4,5,6,7,8}\n",
    "\n",
    "frozen_red = frozenset(red)\n",
    "\n",
    "print(frozen_red)\n",
    "\n",
    "purple = frozen_red - blue\n",
    "\n",
    "print(purple)\n"
   ]
  },
  {
   "cell_type": "markdown",
   "metadata": {},
   "source": [
    "## Modules"
   ]
  },
  {
   "cell_type": "markdown",
   "metadata": {},
   "source": [
    "##### Importing Entire Modules"
   ]
  },
  {
   "cell_type": "code",
   "execution_count": 64,
   "metadata": {},
   "outputs": [
    {
     "name": "stdout",
     "output_type": "stream",
     "text": [
      "3.141592653589793\n",
      "7\n",
      "4\n"
     ]
    }
   ],
   "source": [
    "# import\n",
    "import math\n",
    "\n",
    "print(math.pi)\n",
    "print(math.floor(7.89))\n",
    "print(math.ceil(math.pi))"
   ]
  },
  {
   "cell_type": "markdown",
   "metadata": {},
   "source": [
    "##### Importing Methods Only"
   ]
  },
  {
   "cell_type": "code",
   "execution_count": 66,
   "metadata": {},
   "outputs": [
    {
     "name": "stdout",
     "output_type": "stream",
     "text": [
      "7\n",
      "3.141592653589793\n"
     ]
    }
   ],
   "source": [
    "# from 'xxx' import 'xxx'\n",
    "# from math import floor\n",
    "from math import floor, pi, ceil\n",
    "\n",
    "print(floor(7.89))\n",
    "print(pi)\n",
    "\n",
    "\n"
   ]
  },
  {
   "cell_type": "markdown",
   "metadata": {},
   "source": [
    "##### Using the 'as' Keyword"
   ]
  },
  {
   "cell_type": "code",
   "execution_count": 68,
   "metadata": {},
   "outputs": [
    {
     "name": "stdout",
     "output_type": "stream",
     "text": [
      "8\n",
      "7\n"
     ]
    }
   ],
   "source": [
    "# from 'xxx' import 'xxx' as 'xxx' or import 'xxx' as 'xxx'\n",
    "# from math import floor as f\n",
    "\n",
    "from math import ceil as round_up, floor as round_down\n",
    "\n",
    "print(round_up(7.2))\n",
    "print(round_down(7.2))\n"
   ]
  },
  {
   "cell_type": "markdown",
   "metadata": {},
   "source": [
    "##### Creating a Module"
   ]
  },
  {
   "cell_type": "code",
   "execution_count": 69,
   "metadata": {},
   "outputs": [
    {
     "name": "stdout",
     "output_type": "stream",
     "text": [
      "Christian\n"
     ]
    }
   ],
   "source": [
    "from my_module import format_user\n",
    "\n",
    "print(format_user('     ChriStiAn '))"
   ]
  },
  {
   "cell_type": "markdown",
   "metadata": {},
   "source": [
    "# Exercises"
   ]
  },
  {
   "cell_type": "markdown",
   "metadata": {},
   "source": [
    "### 1) Build a Shopping Cart <br>\n",
    "<p><b>You can use either lists or dictionaries. The program should have the following capabilities:</b><br><br>\n",
    "1) Takes in input <br>\n",
    "2) Stores user input into a dictionary or list <br>\n",
    "3) The User can add or delete items <br>\n",
    "4) The User can see current shopping list <br>\n",
    "5) The program Loops until user 'quits' <br>\n",
    "6) Upon quiting the program, print out all items in the user's list <br>\n",
    "</p>"
   ]
  },
  {
   "cell_type": "code",
   "execution_count": 1,
   "metadata": {},
   "outputs": [
    {
     "name": "stdout",
     "output_type": "stream",
     "text": [
      "bananas added to the shopping cart.\n",
      "\n",
      "chocolate added to the shopping cart.\n",
      "\n",
      "pastrami added to the shopping cart.\n",
      "\n",
      "bananas removed from cart.\n",
      "\n",
      "Current Shopping List:\n",
      "chocolate\n",
      "pastrami\n",
      "\n",
      "Current Shopping List:\n",
      "chocolate\n",
      "pastrami\n",
      "\n",
      "Final Shopping List:\n",
      "Current Shopping List:\n",
      "chocolate\n",
      "pastrami\n",
      "\n"
     ]
    }
   ],
   "source": [
    "# Ask the user four bits of input: Do you want to : Show/Add/Delete or Quit?\n",
    "def show_cart(cart):\n",
    "    print(\"Current Shopping List:\")\n",
    "    for item in cart:\n",
    "        print(item)\n",
    "    print()\n",
    "\n",
    "def add_item(cart):\n",
    "    item = input(\"Enter the name of the item you want to add: \")\n",
    "    cart.append(item)\n",
    "    print(f\"{item} added to the shopping cart.\\n\")\n",
    "\n",
    "def delete_item(cart):\n",
    "    item = input(\"Enter the name of the item you want to delete: \")\n",
    "    if item in cart:\n",
    "        cart.remove(item)\n",
    "        print(f\"{item} removed from cart.\\n\")\n",
    "    else:\n",
    "        print(f\"{item} not found in cart.\\n\")\n",
    "\n",
    "def shopping_cart():\n",
    "    cart = []\n",
    "\n",
    "    while True:\n",
    "        action = input(\"Do you want to: show/add/delete or quit? \").lower()\n",
    "\n",
    "        if action == 'show':\n",
    "            show_cart(cart)\n",
    "        elif action == 'add':\n",
    "            add_item(cart)\n",
    "        elif action == 'delete':\n",
    "            delete_item(cart)\n",
    "        elif action == 'quit':\n",
    "            print(\"Final Shopping List:\")\n",
    "            show_cart(cart)\n",
    "            break\n",
    "        else:\n",
    "            print(\"Invalid input. Please try again.\\n\")\n",
    "\n",
    "shopping_cart()\n"
   ]
  },
  {
   "cell_type": "markdown",
   "metadata": {},
   "source": [
    "### 2) Create a Module in VS Code and Import It into jupyter notebook <br>\n",
    "<p><b>Module should have the following capabilities:</b><br><br>\n",
    "1) Has a function to calculate the square footage of a house <br>\n",
    "    <b>Reminder of Formula: Length X Width == Area<br>\n",
    "        <hr>\n",
    "2) Has a function to calculate the circumference of a circle <br><br>\n",
    "<b>Program in Jupyter Notebook should take in user input and use imported functions to calculate a circle's circumference or a houses square footage</b>\n",
    "</p>"
   ]
  },
  {
   "cell_type": "code",
   "execution_count": 5,
   "metadata": {},
   "outputs": [
    {
     "name": "stdout",
     "output_type": "stream",
     "text": [
      "square footage of house is: 1470.0.\n"
     ]
    }
   ],
   "source": [
    "import my_module\n",
    "\n",
    "calculation_type = input(\"calculate square footage (s) or circumference (c)\")\n",
    "\n",
    "if calculation_type == 's':\n",
    "    length = float(input(\"enter length of house: \"))\n",
    "    width = float(input(\"enter width of house: \"))\n",
    "    square_footage = my_module.calculate_square_footage(length,width)\n",
    "    print(f\"square footage of house is: {square_footage}.\")\n",
    "elif calculation_type == 'c':\n",
    "    radius = float(input(\"enter radius of circle: \"))\n",
    "    circumference = my_module.calculate_circumference(radius)\n",
    "    print(f\"circumference of circle is: {circumference}.\")\n",
    "else:\n",
    "    print(\"choose 's' for square footage or 'c' for circumference\")\n"
   ]
  }
 ],
 "metadata": {
  "kernelspec": {
   "display_name": "Python 3",
   "language": "python",
   "name": "python3"
  },
  "language_info": {
   "codemirror_mode": {
    "name": "ipython",
    "version": 3
   },
   "file_extension": ".py",
   "mimetype": "text/x-python",
   "name": "python",
   "nbconvert_exporter": "python",
   "pygments_lexer": "ipython3",
   "version": "3.11.4"
  },
  "vscode": {
   "interpreter": {
    "hash": "aa82987a71ca0339a52998cd22613b0c002bda8349fa32a0cb67ceec3936a2bf"
   }
  }
 },
 "nbformat": 4,
 "nbformat_minor": 2
}
